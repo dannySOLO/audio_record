{
 "cells": [
  {
   "cell_type": "code",
   "execution_count": 10,
   "metadata": {
    "scrolled": true
   },
   "outputs": [
    {
     "data": {
      "text/plain": [
       "   0 HDA Intel PCH: ALC236 Analog (hw:0,0), ALSA (2 in, 2 out)\n",
       "   1 HDA Intel PCH: HDMI 0 (hw:0,3), ALSA (0 in, 8 out)\n",
       "   2 HDA Intel PCH: HDMI 1 (hw:0,7), ALSA (0 in, 8 out)\n",
       "   3 HDA Intel PCH: HDMI 2 (hw:0,8), ALSA (0 in, 8 out)\n",
       "   4 HDA Intel PCH: HDMI 3 (hw:0,9), ALSA (0 in, 8 out)\n",
       "   5 HDA Intel PCH: HDMI 4 (hw:0,10), ALSA (0 in, 8 out)\n",
       "   6 USB Audio Device: - (hw:1,0), ALSA (1 in, 2 out)\n",
       "*  7 sysdefault, ALSA (128 in, 128 out)\n",
       "   8 front, ALSA (0 in, 2 out)\n",
       "   9 surround40, ALSA (0 in, 2 out)\n",
       "  10 surround51, ALSA (0 in, 2 out)\n",
       "  11 surround71, ALSA (0 in, 2 out)\n",
       "  12 hdmi, ALSA (0 in, 8 out)\n",
       "  13 pulse, ALSA (32 in, 32 out)\n",
       "  14 dmix, ALSA (0 in, 2 out)\n",
       "  15 default, ALSA (32 in, 32 out)"
      ]
     },
     "execution_count": 10,
     "metadata": {},
     "output_type": "execute_result"
    }
   ],
   "source": [
    "import soundfile as sf\n",
    "import sounddevice as sd\n",
    "import re\n",
    "import os\n",
    "\n",
    "misc = sd.query_devices()\n",
    "misc"
   ]
  },
  {
   "cell_type": "code",
   "execution_count": 11,
   "metadata": {},
   "outputs": [
    {
     "name": "stdout",
     "output_type": "stream",
     "text": [
      "{'name': 'default', 'hostapi': 0, 'max_input_channels': 32, 'max_output_channels': 32, 'default_low_input_latency': 0.008707482993197279, 'default_low_output_latency': 0.008707482993197279, 'default_high_input_latency': 0.034829931972789115, 'default_high_output_latency': 0.034829931972789115, 'default_samplerate': 44100.0}\n"
     ]
    }
   ],
   "source": [
    "sd.default.device = 15\n",
    "print(misc[15])"
   ]
  },
  {
   "cell_type": "code",
   "execution_count": 12,
   "metadata": {},
   "outputs": [],
   "source": [
    "def sync_record(filename, duration, sr, channels):\n",
    "    print('Recording...')\n",
    "    my_rec = sd.rec(samplerate=sr, channels=channels, frames=int(duration*sr))\n",
    "    sd.wait()\n",
    "    sf.write(filename, data=my_rec, samplerate=sr)\n",
    "    print('Complete recording!')"
   ]
  },
  {
   "cell_type": "code",
   "execution_count": null,
   "metadata": {
    "scrolled": true
   },
   "outputs": [
    {
     "name": "stdout",
     "output_type": "stream",
     "text": [
      "The paragrapth:\n",
      "Chào em.Anh tên là Đức Anh.Chúng ta làm quen được không.\n",
      "\n",
      "Read out loud:\n",
      "Chào em\n",
      "\n",
      "Press Enter to start recording:\n",
      "\n",
      "Recording...\n",
      "Complete recording!\n"
     ]
    }
   ],
   "source": [
    "TEXT_FILE_INPUT = \"input/text.txt\"\n",
    "FOLDER_OUTPUT = \"ouput\"\n",
    "LINK = \"https://something\"\n",
    "textfile = FOLDER_OUTPUT + \"/\" + \"recorded_text.txt\"\n",
    "\n",
    "f = open(textfile, \"w+\",encoding='utf8')\n",
    "f.write(LINK + '\\n')\n",
    "f.close()\n",
    "\n",
    "\n",
    "\n",
    "if not os.path.exists(FOLDER_OUTPUT):\n",
    "    os.makedirs(FOLDER_OUTPUT)\n",
    "\n",
    "def record_voice(file, folder, filetext):\n",
    "#     os.mkdir('FOLDER_OUTPUT')\n",
    "    with open(file, encoding=\"utf8\" ) as f:\n",
    "        content = f.read()\n",
    "        content = content.strip()\n",
    "        content = re.sub(' +', ' ', content)\n",
    "        print(\"The paragrapth:\\n\" + content)\n",
    "        content = content.split(\".\")\n",
    "        f.close()\n",
    "    i = 1\n",
    "    for sentence in content:\n",
    "        if sentence == \"\":\n",
    "            continue\n",
    "        print(\"\\nRead out loud:\")\n",
    "        print(sentence)\n",
    "        \n",
    "        try:\n",
    "            input(\"\\nPress Enter to start recording:\\n\")\n",
    "        except SyntaxError:\n",
    "            pass\n",
    "        \n",
    "        duration = int(len(sentence.split()) / 2)\n",
    "        name = \"audio_\" + str(i)\n",
    "        filename = FOLDER_OUTPUT +\"/\" + name +\".wav\"\n",
    "        sync_record(filename, duration , 22050, 1)\n",
    "        file = open(textfile, \"a+\",encoding='utf8')\n",
    "        file.write(name + '\\n')\n",
    "        file.write(sentence + '\\n')\n",
    "        file.close()\n",
    "        \n",
    "        i += 1\n",
    "        try:\n",
    "            input(\"Press enter to continue\\n__________\")\n",
    "        except SyntaxError:\n",
    "            pass\n",
    "        \n",
    "    print(\"recorded!\")\n",
    "    \n",
    "\n",
    "\n",
    "\n",
    "record_voice(TEXT_FILE_INPUT, FOLDER_OUTPUT, textfile)\n",
    "        \n",
    "        \n",
    "        \n"
   ]
  },
  {
   "cell_type": "code",
   "execution_count": null,
   "metadata": {},
   "outputs": [],
   "source": [
    "\n",
    "\n",
    "\n",
    "\n"
   ]
  },
  {
   "cell_type": "code",
   "execution_count": null,
   "metadata": {},
   "outputs": [],
   "source": []
  },
  {
   "cell_type": "code",
   "execution_count": null,
   "metadata": {},
   "outputs": [],
   "source": []
  }
 ],
 "metadata": {
  "kernelspec": {
   "display_name": "Python 3",
   "language": "python",
   "name": "python3"
  },
  "language_info": {
   "codemirror_mode": {
    "name": "ipython",
    "version": 3
   },
   "file_extension": ".py",
   "mimetype": "text/x-python",
   "name": "python",
   "nbconvert_exporter": "python",
   "pygments_lexer": "ipython3",
   "version": "3.6.9"
  }
 },
 "nbformat": 4,
 "nbformat_minor": 4
}
