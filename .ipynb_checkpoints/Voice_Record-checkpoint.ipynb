{
 "cells": [
  {
   "cell_type": "code",
   "execution_count": null,
   "metadata": {
    "scrolled": true
   },
   "outputs": [],
   "source": [
    "import soundfile as sf\n",
    "import sounddevice as sd\n",
    "import queue\n",
    "import keyboard\n",
    "import numpy\n",
    "import time\n",
    "import os\n",
    "\n",
    "misc = sd.query_devices()\n",
    "misc"
   ]
  },
  {
   "cell_type": "code",
   "execution_count": null,
   "metadata": {},
   "outputs": [],
   "source": [
    "# sd.default.device = 7\n",
    "print(misc[1])"
   ]
  },
  {
   "cell_type": "code",
   "execution_count": null,
   "metadata": {},
   "outputs": [],
   "source": [
    "def sync_record(filename, duration, sr, channels):\n",
    "    print('recording')\n",
    "    my_rec = sd.rec(samplerate=sr, channels=channels, frames=int(duration*sr))\n",
    "    sd.wait()\n",
    "    sf.write(filename, data=my_rec, samplerate=sr)\n",
    "    print('done recording')"
   ]
  },
  {
   "cell_type": "code",
   "execution_count": null,
   "metadata": {
    "scrolled": true
   },
   "outputs": [],
   "source": [
    "file =\"Data/Test.txt\"\n",
    "def Record_file(file, folder, filetext):\n",
    "    with open(file, encoding=\"utf8\" ) as f:\n",
    "        content = f.read()\n",
    "        content = content.replace(\"  \", \" \")\n",
    "        content = content.replace(\". \", \".\")\n",
    "        content = content.replace(\"\\n\", \".\")\n",
    "        content = content.replace(\"..\", \".\")\n",
    "        print(\"Văn bản cần thu âm là : \\n\")\n",
    "        print(content)\n",
    "        content = content.split(\".\")\n",
    "        f.close()\n",
    "    i = 1\n",
    "    for sentence in content:\n",
    "        if sentence == \"\":\n",
    "            continue\n",
    "        print(\"mời bạn đọc câu: \\n\")\n",
    "        print(sentence)\n",
    "        try:\n",
    "            input(\"ấn enter để bắt đầu ghi âm\")\n",
    "        except SyntaxError:\n",
    "            pass\n",
    "        temp = sentence.split()\n",
    "        duration = int(len(temp))\n",
    "        name = \"sentence\" + str(i)\n",
    "        filename = folder +\"/\" + name +\".wav\"\n",
    "        sync_record(filename, duration , 22050, 1)\n",
    "        file = open(filetext, \"a+\",encoding='utf8')\n",
    "        file.write(name + '\\n')\n",
    "        file.write(sentence + '\\n')\n",
    "        file.close()\n",
    "        i = i + 1\n",
    "        try:\n",
    "            input(\"Press enter to continue\")\n",
    "        except SyntaxError:\n",
    "            pass\n",
    "        \n",
    "    print(\"bạn đã ghi âm xong\")\n",
    "folder =\"Test\"\n",
    "Newpaper = \"https://vnexpress.net/\"\n",
    "filetext = folder + \"/\" + folder + \".txt\"\n",
    "f=open(filetext, \"w+\",encoding='utf8')\n",
    "f.write(Newpaper + \"\\n\")\n",
    "f.close()\n",
    "Record_file(file,folder,filetext)\n",
    "        \n",
    "        \n",
    "        \n"
   ]
  },
  {
   "cell_type": "code",
   "execution_count": null,
   "metadata": {},
   "outputs": [],
   "source": [
    "\n"
   ]
  },
  {
   "cell_type": "code",
   "execution_count": null,
   "metadata": {},
   "outputs": [],
   "source": []
  },
  {
   "cell_type": "code",
   "execution_count": null,
   "metadata": {},
   "outputs": [],
   "source": []
  }
 ],
 "metadata": {
  "kernelspec": {
   "display_name": "Python 3",
   "language": "python",
   "name": "python3"
  },
  "language_info": {
   "codemirror_mode": {
    "name": "ipython",
    "version": 3
   },
   "file_extension": ".py",
   "mimetype": "text/x-python",
   "name": "python",
   "nbconvert_exporter": "python",
   "pygments_lexer": "ipython3",
   "version": "3.6.9"
  }
 },
 "nbformat": 4,
 "nbformat_minor": 4
}
